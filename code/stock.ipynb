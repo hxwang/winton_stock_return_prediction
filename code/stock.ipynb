{
 "cells": [
  {
   "cell_type": "code",
   "execution_count": 55,
   "metadata": {
    "collapsed": false
   },
   "outputs": [],
   "source": [
    "import pandas as pd\n",
    "import numpy as np\n",
    "\n",
    "train = pd.read_csv('../data/train.csv')\n",
    "test  = pd.read_csv('../data/test_2.csv')\n",
    "train = train.interpolate(method='nearest').dropna()\n",
    "test  = test.interpolate(method='nearest').fillna(0)"
   ]
  },
  {
   "cell_type": "code",
   "execution_count": 61,
   "metadata": {
    "collapsed": false
   },
   "outputs": [],
   "source": [
    "train_ft   = train.ix[:,  1: 26]\n",
    "train_X    = train.ix[:, 26: 28]\n",
    "train_ts_X = train.ix[:, 28:147]\n",
    "train_ts_Y = train.ix[:,147:207]\n",
    "train_Y1   = train.ix[:,    207]\n",
    "train_Y2   = train.ix[:,    208]\n",
    "train_WI   = train.ix[:,    209]\n",
    "train_WD   = train.ix[:,    210]\n",
    "\n",
    "test_ft    = test.ix[:,   1: 26]\n",
    "test_X     = test.ix[:,  26: 28]\n",
    "test_ts_X  = test.ix[:,  28:147]"
   ]
  },
  {
   "cell_type": "code",
   "execution_count": 70,
   "metadata": {
    "collapsed": false
   },
   "outputs": [],
   "source": [
    "import matplotlib.pyplot as plt\n",
    "%matplotlib inline"
   ]
  },
  {
   "cell_type": "code",
   "execution_count": 175,
   "metadata": {
    "collapsed": false
   },
   "outputs": [],
   "source": [
    "def plot_ts(ts):\n",
    "    plt.plot(np.array(ts))\n",
    "    plt.ylabel('return')\n",
    "    plt.show()\n",
    "\n",
    "def plot_hist(a):\n",
    "    plt.hist(a, bins=50, normed=True)\n",
    "    plt.show()"
   ]
  },
  {
   "cell_type": "code",
   "execution_count": 229,
   "metadata": {
    "collapsed": false
   },
   "outputs": [],
   "source": [
    "# plot_hist(train_WD)"
   ]
  },
  {
   "cell_type": "code",
   "execution_count": 161,
   "metadata": {
    "collapsed": false
   },
   "outputs": [],
   "source": [
    "sub = pd.read_csv('../data/sample_submission_2.csv')"
   ]
  },
  {
   "cell_type": "code",
   "execution_count": 216,
   "metadata": {
    "collapsed": false
   },
   "outputs": [],
   "source": [
    "from sklearn.neighbors import KNeighborsRegressor\n",
    "\n",
    "# create an KNN model\n",
    "def knn(X, y):\n",
    "    m = KNeighborsRegressor(n_neighbors=100, weights='distance')\n",
    "    m.fit(X, y)\n",
    "    return m"
   ]
  },
  {
   "cell_type": "code",
   "execution_count": 215,
   "metadata": {
    "collapsed": true
   },
   "outputs": [],
   "source": [
    "from sklearn.metrics import mean_absolute_error\n",
    "\n",
    "def evulate(y_true, y_pred, w):\n",
    "    return mean_absolute_error(y_true, y_pred, sample_weight=w)"
   ]
  },
  {
   "cell_type": "code",
   "execution_count": 217,
   "metadata": {
    "collapsed": true
   },
   "outputs": [],
   "source": [
    "m_WD = knn(train_ft, train_WD)\n",
    "test_WD = m_WD.predict(test_ft)"
   ]
  },
  {
   "cell_type": "code",
   "execution_count": 218,
   "metadata": {
    "collapsed": false
   },
   "outputs": [],
   "source": [
    "m_Y1 = knn(train_ft, train_Y1)\n",
    "m_Y2 = knn(train_ft, train_Y2)\n",
    "test_Y1 = m1.predict(test_ft)\n",
    "test_Y2 = m2.predict(test_ft)"
   ]
  },
  {
   "cell_type": "code",
   "execution_count": 224,
   "metadata": {
    "collapsed": false
   },
   "outputs": [],
   "source": [
    "# t_y1 = test_Y1 * test_WD / test_WD.mean()\n",
    "# t_y2 = test_Y2 * test_WD / test_WD.mean()\n",
    "\n",
    "# weighted median method\n",
    "t_y1 = train_Y1.median() * test_WD / test_WD.mean()\n",
    "t_y2 = train_Y2.median() * test_WD / test_WD.mean()"
   ]
  },
  {
   "cell_type": "code",
   "execution_count": 228,
   "metadata": {
    "collapsed": false,
    "scrolled": true
   },
   "outputs": [],
   "source": [
    "# plot_hist(t_y1)\n",
    "# plot_hist(t_y2)"
   ]
  },
  {
   "cell_type": "code",
   "execution_count": 227,
   "metadata": {
    "collapsed": false
   },
   "outputs": [],
   "source": [
    "sub.loc[60::62,'Predicted'] = t_y1\n",
    "sub.loc[61::62,'Predicted'] = t_y2\n",
    "\n",
    "sub.to_csv('../data/my_sub.csv', index=False)"
   ]
  }
 ],
 "metadata": {
  "kernelspec": {
   "display_name": "Python 2",
   "language": "python",
   "name": "python2"
  },
  "language_info": {
   "codemirror_mode": {
    "name": "ipython",
    "version": 2
   },
   "file_extension": ".py",
   "mimetype": "text/x-python",
   "name": "python",
   "nbconvert_exporter": "python",
   "pygments_lexer": "ipython2",
   "version": "2.7.11"
  }
 },
 "nbformat": 4,
 "nbformat_minor": 0
}
