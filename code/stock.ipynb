{
 "cells": [
  {
   "cell_type": "code",
   "execution_count": 1,
   "metadata": {
    "collapsed": true
   },
   "outputs": [],
   "source": [
    "import pandas as pd\n",
    "import numpy as np\n",
    "import matplotlib.pyplot as plt\n",
    "%matplotlib inline"
   ]
  },
  {
   "cell_type": "code",
   "execution_count": 15,
   "metadata": {
    "collapsed": false
   },
   "outputs": [],
   "source": [
    "train = pd.read_csv('../data/train.csv')\n",
    "test  = pd.read_csv('../data/test_2.csv')"
   ]
  },
  {
   "cell_type": "code",
   "execution_count": 16,
   "metadata": {
    "collapsed": false
   },
   "outputs": [],
   "source": [
    "train = train.fillna(train.median())\n",
    "test = test.fillna(test.median())"
   ]
  },
  {
   "cell_type": "code",
   "execution_count": 17,
   "metadata": {
    "collapsed": false
   },
   "outputs": [],
   "source": [
    "train_ft   = train.ix[:,  1: 26]\n",
    "train_X    = train.ix[:, 26: 28]\n",
    "train_ts_X = train.ix[:, 28:147]\n",
    "train_ts_Y = train.ix[:,147:207]\n",
    "train_Y1   = train.ix[:,    207]\n",
    "train_Y2   = train.ix[:,    208]\n",
    "train_WI   = train.ix[:,    209]\n",
    "train_WD   = train.ix[:,    210]\n",
    "\n",
    "test_ft    = test.ix[:,   1: 26]\n",
    "test_X     = test.ix[:,  26: 28]\n",
    "test_ts_X  = test.ix[:,  28:147]"
   ]
  },
  {
   "cell_type": "code",
   "execution_count": 18,
   "metadata": {
    "collapsed": false
   },
   "outputs": [],
   "source": [
    "def plot_ts(ts):\n",
    "    plt.plot(np.array(ts))\n",
    "    plt.ylabel('return')\n",
    "    plt.show()\n",
    "\n",
    "def plot_hist(a):\n",
    "    plt.hist(a, bins=50, normed=True)\n",
    "    plt.show()"
   ]
  },
  {
   "cell_type": "code",
   "execution_count": 19,
   "metadata": {
    "collapsed": false
   },
   "outputs": [],
   "source": [
    "# plot_hist(train_WD)"
   ]
  },
  {
   "cell_type": "code",
   "execution_count": 20,
   "metadata": {
    "collapsed": false
   },
   "outputs": [],
   "source": [
    "sub = pd.read_csv('../data/sample_submission_2.csv')"
   ]
  },
  {
   "cell_type": "code",
   "execution_count": 21,
   "metadata": {
    "collapsed": false
   },
   "outputs": [],
   "source": [
    "from sklearn.neighbors import KNeighborsRegressor\n",
    "\n",
    "# create an KNN model\n",
    "def knn(X, y):\n",
    "    m = KNeighborsRegressor(n_neighbors=50, weights='distance', n_jobs=4)\n",
    "    m.fit(X, y)\n",
    "    return m"
   ]
  },
  {
   "cell_type": "code",
   "execution_count": 22,
   "metadata": {
    "collapsed": false
   },
   "outputs": [],
   "source": [
    "# daily weights\n",
    "m_WD = knn(train_ft, train_WD)\n",
    "test_WD = 1.0 / m_WD.predict(test_ft)**4 # reverse weight\n",
    "test_WD = test_WD / test_WD.mean() # normalize"
   ]
  },
  {
   "cell_type": "code",
   "execution_count": 10,
   "metadata": {
    "collapsed": false
   },
   "outputs": [],
   "source": [
    "# m_Y1 = knn(train_ft, train_Y1)\n",
    "# m_Y2 = knn(train_ft, train_Y2)\n",
    "# test_Y1 = m1.predict(test_ft)\n",
    "# test_Y2 = m2.predict(test_ft)"
   ]
  },
  {
   "cell_type": "code",
   "execution_count": 11,
   "metadata": {
    "collapsed": false
   },
   "outputs": [],
   "source": [
    "# t_y1 = test_Y1 * test_WD / test_WD.mean()\n",
    "# t_y2 = test_Y2 * test_WD / test_WD.mean()"
   ]
  },
  {
   "cell_type": "code",
   "execution_count": 23,
   "metadata": {
    "collapsed": true
   },
   "outputs": [],
   "source": [
    "# Daily prediction\n",
    "# weighted median method\n",
    "t_y1 = train_Y1.median() * test_WD\n",
    "t_y2 = train_Y2.median() * test_WD\n",
    "sub.loc[60::62,'Predicted'] = t_y1\n",
    "sub.loc[61::62,'Predicted'] = t_y2"
   ]
  },
  {
   "cell_type": "code",
   "execution_count": 13,
   "metadata": {
    "collapsed": false
   },
   "outputs": [],
   "source": [
    "# Intraday prediction\n",
    "WR = 1.25\n",
    "test_WI = test_WD / WR\n",
    "ts_md = train_ts_Y.median()\n",
    "for i in range(0, ts_md.shape[0]):\n",
    "    sub.loc[i::62,'Predicted'] = ts_md[i] * test_WI"
   ]
  },
  {
   "cell_type": "code",
   "execution_count": 24,
   "metadata": {
    "collapsed": false
   },
   "outputs": [],
   "source": [
    "sub.to_csv('../data/my_sub.csv', index=False)"
   ]
  },
  {
   "cell_type": "code",
   "execution_count": null,
   "metadata": {
    "collapsed": true
   },
   "outputs": [],
   "source": []
  }
 ],
 "metadata": {
  "kernelspec": {
   "display_name": "Python 2",
   "language": "python",
   "name": "python2"
  },
  "language_info": {
   "codemirror_mode": {
    "name": "ipython",
    "version": 2
   },
   "file_extension": ".py",
   "mimetype": "text/x-python",
   "name": "python",
   "nbconvert_exporter": "python",
   "pygments_lexer": "ipython2",
   "version": "2.7.11"
  }
 },
 "nbformat": 4,
 "nbformat_minor": 0
}
